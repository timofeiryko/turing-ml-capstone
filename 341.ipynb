{
 "cells": [
  {
   "cell_type": "markdown",
   "id": "80bb1ab4-6487-477b-a1c0-5617358d06e9",
   "metadata": {},
   "source": [
    "# Module 3: Machine Learning"
   ]
  },
  {
   "cell_type": "markdown",
   "id": "552740c3-3409-4208-b562-5ab003364e08",
   "metadata": {},
   "source": [
    "## Sprint 4: Capstone Project"
   ]
  },
  {
   "cell_type": "markdown",
   "id": "24e03b28-eccb-4983-9377-677188d85610",
   "metadata": {},
   "source": [
    "# About this Sprint\n\nIt is time for your third Capstone Project.\nYou will work on this project for the whole Sprint.\nThe outcome of this Sprint should potentially serve as your portfolio item, so try to show your best work!\n\nThis time your objective is even more challenging - you will be required to iteratively build and implement a plan for a large dataset based on business objectives.\nYou'll have to translate the business requirements, making assumptions where necessary, into a plan for your project.\n\nEven though you have learned a lot about machine learning in this Sprint, working on a larger project will be the real challenge.\n\nGood luck!\n\n## Context\n\nYou and your friend came up with a brilliant startup idea - provide risk evaluation as a service for retail banks.\nAs with most successful startup teams, both of you have your specialty.\nYour friend is responsible for sales and operations, while you are responsible for everything product-related, from planning to data analysis to building the solution.\nYou have quickly identified that machine learning will be an essential part of your offering because you believe that the models can capture statistical patterns in the defaults on bank loans.\nYou decide to start your investigation by downloading [this](https://storage.googleapis.com/341-home-credit-default/home-credit-default-risk.zip) dataset from Home Credit Group.\nYou are not yet sure, what is the most crucial problem for your potential clients, so you had a meeting with your friend to discuss how your proof-of-concept (POC) product should look like.\nAfter a lot of arguing, you both agreed to create a number of different models so that you have a robust and diversified offering when you get your first meeting with the potential clients.\nYou are eager to investigate the dataset and see what you can predict, so you propose that you come up with interesting features to analyze and predict - this way, you'll focus on building a solid offering, and she can work on getting meetings with the banks.\n\n## Objectives for this Part\n\n- Practice translating business requirements into data science tasks.\n- Practice performing EDA.\n- Practice applying statistical inference procedures.\n- Practice using machine learning to solve business problems.\n- Practice deploying multiple machine learning models.\n\n## Requirements\n\n- Download the data from [here](https://storage.googleapis.com/341-home-credit-default/home-credit-default-risk.zip) and the data description from [here](https://storage.googleapis.com/341-home-credit-default/Home%20Credit%20Default%20Risk.pdf).\n- Create a plan for your investigation, analysis, and POC building. This should include your assumptions, overall objectives, and objectives for each step in your plan. You are not expected to have a plan for the whole project but instead have a clear understanding of what you'll try to achieve in the next step and build the plan one step at a time.\n- Perform exploratory data analysis. This should include creating statistical summaries and charts, testing for anomalies, checking for correlations and other relations between variables, and other EDA elements.\n- Perform statistical inference. This should include defining the target population, forming multiple statistical hypotheses and constructing confidence intervals, setting the significance levels, conducting z or t-tests for these hypotheses.\n- Use machine learning models to predict the target variables based on your proposed plan. You should use hyperparameter tuning, model ensembling, the analysis of model selection, and other methods. The decision of where to use and not to use these techniques is up to you; however, they should be aligned with your team's objectives.\n- Deploy these machine learning models to Google Cloud Platform. You are free to choose any deployment option you wish as long as it can be called an HTTP request.\n- Provide clear explanations in your notebook. Your explanations should inform the reader what you are trying to achieve, what results you got, and what these results mean.\n- Provide suggestions about how your analysis and models can be improved.\n\n## Bonus Challenges\n\nAs a data scientist, you will spend a significant amount of your time learning new things.\nSometimes you will do that for fun, but most of the time, you will have an urgent problem, and you will need to quickly learn some new skills to be able to solve it.\nIt is essential to build this skill gradually - it is extremely valuable for all data scientists.\nThe bonus challenges are designed to simulate these types of situations.\nThese challenges require you to do something that we haven't covered in the course yet.\nInstead of trying to do all of the bonus challenges, concentrate on just one or two and do them well.\nAll of the bonus challenges are optional - no points will be deducted if you skip them.\n\n- Provide a write-up on your project. Appendix B. Machine Learning Project Checklist from the [Hands-On Machine Learning with Scikit-Learn, Keras, and TensorFlow, 2nd Edition](https://learning.oreilly.com/library/view/hands-on-machine-learning/9781492032632/app02.html).\n- Try using a multi-output model.\n- Try using a deep neural network-based model.\n\n## Evaluation Criteria\n\n- Adherence to the requirements. How well did you meet the requirements?\n- Depth of your analysis. Did you skim the surface, or did you explore the dataset in-depth?\n- Models' performance. How well did your models perform the predictions?\n- Models' deployment. How performant, robust, and scalable your models' deployment is?\n- Visualization quality. Did you use charts effectively to visualize patterns in the data? Are your visualizations properly labeled? Did you use colors effectively? Did you adhere to the principle of proportional ink?\n- Code quality. Was your code well-structured? Did you use the appropriate levels of abstraction? Did you remove commented-out and unused code? Did you adhere to the PEP8?\n- Code performance. Did you use suitable algorithms and data structures to solve the problems?\n- Delivery of the presentation. How clear are your reasoning and explanations?\n- Bonus challenges. Have you put extra effort into doing one or more of the bonus challenges (no points will be deducted if you skip them)?\n\n## Correction\n\nDuring your project correction, you should present it as if talking to a technical team lead and a senior co-worker working in your team.\nYou can assume that they will have strong data science and software engineering skills - they will understand technical jargon, they are expected to notice things that could have been done better, ask about the choices you've made (especially if you've made some questionable choices).\nIn addition, be careful not to spend your time explaining trivial concepts or code snippets that are simple - your best bet is to focus your presentation on the more difficult portions of your code.\n\n## Resources\n\nThis task is based on the Home Credit Default Risk Kaggle Competition.\n"
   ]
  }
 ],
 "metadata": {
  "kernelspec": {
   "display_name": "Python 3",
   "language": "python",
   "name": "python3"
  },
  "language_info": {
   "codemirror_mode": {
    "name": "ipython",
    "version": 3
   },
   "file_extension": ".py",
   "mimetype": "text/x-python",
   "name": "python",
   "nbconvert_exporter": "python",
   "pygments_lexer": "ipython3",
   "version": "3.9.5"
  }
 },
 "nbformat": 4,
 "nbformat_minor": 5
}
